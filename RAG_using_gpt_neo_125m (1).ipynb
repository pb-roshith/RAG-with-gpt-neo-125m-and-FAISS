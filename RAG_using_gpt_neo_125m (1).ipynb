{
 "nbformat": 4,
 "nbformat_minor": 0,
 "metadata": {
  "colab": {
   "provenance": [],
   "gpuType": "V28"
  },
  "kernelspec": {
   "name": "python3",
   "display_name": "Python 3"
  },
  "language_info": {
   "name": "python"
  },
  "accelerator": "TPU"
 },
 "cells": [
  {
   "cell_type": "code",
   "execution_count": 1,
   "metadata": {
    "colab": {
     "base_uri": "https://localhost:8080/"
    },
    "id": "SsVdKIEujzH8",
    "outputId": "05bbb002-4613-46e7-f2cf-2a2d2995adb7"
   },
   "outputs": [
    {
     "output_type": "stream",
     "name": "stdout",
     "text": [
      "\u001b[?25l   \u001b[90m\u2501\u2501\u2501\u2501\u2501\u2501\u2501\u2501\u2501\u2501\u2501\u2501\u2501\u2501\u2501\u2501\u2501\u2501\u2501\u2501\u2501\u2501\u2501\u2501\u2501\u2501\u2501\u2501\u2501\u2501\u2501\u2501\u2501\u2501\u2501\u2501\u2501\u2501\u2501\u2501\u001b[0m \u001b[32m0.0/232.6 kB\u001b[0m \u001b[31m?\u001b[0m eta \u001b[36m-:--:--\u001b[0m\r\u001b[2K   \u001b[91m\u2501\u2501\u2501\u2501\u2501\u2501\u2501\u2501\u2501\u2501\u2501\u2501\u2501\u2501\u2501\u2501\u2501\u2501\u2501\u2501\u2501\u2501\u2501\u2501\u2501\u2501\u2501\u2501\u2501\u2501\u2501\u2501\u2501\u2501\u2501\u2501\u2501\u2501\u001b[0m\u001b[91m\u2578\u001b[0m\u001b[90m\u2501\u001b[0m \u001b[32m225.3/232.6 kB\u001b[0m \u001b[31m9.0 MB/s\u001b[0m eta \u001b[36m0:00:01\u001b[0m\r\u001b[2K   \u001b[90m\u2501\u2501\u2501\u2501\u2501\u2501\u2501\u2501\u2501\u2501\u2501\u2501\u2501\u2501\u2501\u2501\u2501\u2501\u2501\u2501\u2501\u2501\u2501\u2501\u2501\u2501\u2501\u2501\u2501\u2501\u2501\u2501\u2501\u2501\u2501\u2501\u2501\u2501\u2501\u2501\u001b[0m \u001b[32m232.6/232.6 kB\u001b[0m \u001b[31m5.9 MB/s\u001b[0m eta \u001b[36m0:00:00\u001b[0m\n",
      "\u001b[2K   \u001b[90m\u2501\u2501\u2501\u2501\u2501\u2501\u2501\u2501\u2501\u2501\u2501\u2501\u2501\u2501\u2501\u2501\u2501\u2501\u2501\u2501\u2501\u2501\u2501\u2501\u2501\u2501\u2501\u2501\u2501\u2501\u2501\u2501\u2501\u2501\u2501\u2501\u2501\u2501\u2501\u2501\u001b[0m \u001b[32m345.7/345.7 kB\u001b[0m \u001b[31m15.2 MB/s\u001b[0m eta \u001b[36m0:00:00\u001b[0m\n",
      "\u001b[2K   \u001b[90m\u2501\u2501\u2501\u2501\u2501\u2501\u2501\u2501\u2501\u2501\u2501\u2501\u2501\u2501\u2501\u2501\u2501\u2501\u2501\u2501\u2501\u2501\u2501\u2501\u2501\u2501\u2501\u2501\u2501\u2501\u2501\u2501\u2501\u2501\u2501\u2501\u2501\u2501\u2501\u2501\u001b[0m \u001b[32m31.3/31.3 MB\u001b[0m \u001b[31m53.2 MB/s\u001b[0m eta \u001b[36m0:00:00\u001b[0m\n",
      "\u001b[?25h"
     ]
    }
   ],
   "source": [
    "!pip install -q PyPDF2 sentence-transformers faiss-cpu transformers"
   ]
  },
  {
   "cell_type": "code",
   "source": [
    "import PyPDF2\n",
    "import faiss\n",
    "import numpy as np\n",
    "from sentence_transformers import SentenceTransformer\n",
    "from transformers import GPTNeoForCausalLM, GPT2Tokenizer\n",
    "import torch"
   ],
   "metadata": {
    "id": "LhfMrjBHnAjn"
   },
   "execution_count": 2,
   "outputs": []
  },
  {
   "cell_type": "code",
   "source": [
    "def extract_text_from_pdf(path):\n",
    "    reader = PyPDF2.PdfReader(path)\n",
    "    text = \"\"\n",
    "    for page in reader.pages:\n",
    "        page_text = page.extract_text()\n",
    "        if page_text:\n",
    "            text += page_text + \"\\n\"\n",
    "    return text\n",
    "\n",
    "pdf_text = extract_text_from_pdf('/content/offer letter (3).pdf')\n",
    "print(f\"Extracted {len(pdf_text)} characters from PDF.\")"
   ],
   "metadata": {
    "colab": {
     "base_uri": "https://localhost:8080/"
    },
    "id": "VQEX6x0HnTjV",
    "outputId": "77202afc-dd8e-4941-c698-e80936d93886"
   },
   "execution_count": 3,
   "outputs": [
    {
     "output_type": "stream",
     "name": "stdout",
     "text": [
      "Extracted 35778 characters from PDF.\n"
     ]
    }
   ]
  },
  {
   "cell_type": "code",
   "source": [
    "chunk_size = 1000\n",
    "chunks = [pdf_text[i:i+chunk_size] for i in range(0, len(pdf_text), chunk_size)]\n",
    "print(f\"Split text into {len(chunks)} chunks, each up to {chunk_size} characters.\")"
   ],
   "metadata": {
    "colab": {
     "base_uri": "https://localhost:8080/"
    },
    "id": "FbsTr5dhnjNU",
    "outputId": "70ded945-95d5-4f69-d944-8e47e1ad5f83"
   },
   "execution_count": 4,
   "outputs": [
    {
     "output_type": "stream",
     "name": "stdout",
     "text": [
      "Split text into 36 chunks, each up to 1000 characters.\n"
     ]
    }
   ]
  },
  {
   "cell_type": "code",
   "source": [
    "embedder = SentenceTransformer('all-MiniLM-L6-v2')"
   ],
   "metadata": {
    "colab": {
     "base_uri": "https://localhost:8080/",
     "height": 535,
     "referenced_widgets": [
      "b05a014094774244b35f947244cbac8a",
      "551fc97b2ea04feaad33501a9b7a06c1",
      "e9cd2c53c0a34ddf96d2d89e4d9f9406",
      "2af9516c256e48bfa98867f5f7cb60fc",
      "01e35dbb39a048f7819a3ca87d52ab16",
      "90877f5944df495faff8c09b74743d24",
      "daaf2a27803945a18b3723a47664d32c",
      "b433a5b8b9324c6ea725a07dc87ea806",
      "16455e82055e432aaca945a607d238b9",
      "fd1f454530f649088dbe2de36fa600c5",
      "750d5878935a49b895fab703658ee12c",
      "dbb45b687c1e47ccbb4d4c344febbc06",
      "57592a5a61f74b3aae4d552b502364ec",
      "b6a18b0a8ef14a6d89677fd6a52afd36",
      "b4f20ed335114a3b8a57b33b91ba6392",
      "1a3fbc8323844af69b3386f31990331e",
      "204440a70e8043f48e6ccc8d268c7587",
      "06cb286024b04845b96924fff509f77f",
      "301a9499cc294173816cb3c44d3342dd",
      "e4caa588fa80421bb64e78e0bae6bc77",
      "264926bc425b406e91069377647b8771",
      "8f4b3f1f057343ba9d52d766bf5e22d3",
      "a8845a462c584ad3a6f76c99762f8982",
      "4446b63b67094db69c9ab2fde3e97d66",
      "7152168aaffe4618b76c7be6d7729cc0",
      "7d4e29870576445a9636f982c9ef1362",
      "33aaa8f1659542bbacb0f8840418b542",
      "79114f523d3643198b99761435b8a3da",
      "1e115a010f3b40fe9723e9a98201c6df",
      "8409ff36c8f0444d9c486b61afea89ea",
      "1ce8b33426d640e4b98dc5c1d991153f",
      "ef9a3776fa554c739fc91b50548ebb45",
      "56d44d7954ef42419a85041867e5d3ce",
      "91552793f23b479b87292767f11119ab",
      "80325f58c551416a8499aba0707f5727",
      "2c0172d8c6d640f6b4709c110425e605",
      "2c0de9e94d0444609b96a49fb434ac8b",
      "c64be4b496a04f209f22e49e60927fa1",
      "d97666816aa742c6a73b905326ab4717",
      "1dace9ac624b4f83926cc300ccd0f524",
      "7a5f23bc41ba4219979891e3ff4e1877",
      "acdb49d49a464b98a16661a033508f92",
      "bafba55aa879446489fcf55942d6c672",
      "6e7cd1d66eb54059abbc4bc2383bee34",
      "fe07daed22de42dba0a5347e3be98998",
      "7c73df9659354fda9c29d2ca3c2877f5",
      "59160680067a4e6dafd4806d6a286b4e",
      "3a938ea994f943dfa505c70cc1ffad75",
      "eeb96092daf84ddebd98981fdb544648",
      "da95458fb6bf483c959fc0d11063f738",
      "10b66f12d3ee44719a8db031974d8e5a",
      "aab67bbda92c465b82bd298f74c70fd8",
      "d85e940864b14830a8747054ff0e056b",
      "c76b41ee5af74ed983d93dbec11549c9",
      "c537c16110874004a0b5edb18a3c5e42",
      "755c9c5bd7f440c8ab28fb2ac27d89b4",
      "165f91031a9c431ca5acfd487c425c6b",
      "54424880a81643e187f2f5a0cef1626d",
      "989dffead2164c149d2f8b1fc8688265",
      "33a6511321e54f13bd47443a16af41af",
      "aca4f4f62a8a4180af080d4041ae205b",
      "833db34098a84970b1cd50caf12cb8a0",
      "980eb5bbf2ad452d80c3d2d10f20eb5a",
      "f6091adaae3643ce83da9804b229b0d4",
      "e610195103aa4826adcf0a5ff130a6c9",
      "d32964ee7bf24d8bb713c596c5aaa977",
      "21496e1acc284685b412748a43eaa0ee",
      "cf965d82924641a0ba6137e25a8e9bbe",
      "51258e4c2f494f6693cb4ad46bbfd3da",
      "80daf0b76ae040279a0128355ff439de",
      "e9b28f5a315f44c7bf48d014f353436b",
      "92b4d9ab179147a0a22c1513a182777e",
      "9147b720806e4375b3abc79873eddffb",
      "9fccff0dae364c2486ee5331496237e5",
      "33e4e673260341a78830e72276b090af",
      "9eb65a0ebffc432c8d436cf59cb6df2e",
      "fbd31449e9e3428ea75d1af948c0a010",
      "e54cad32707342a39e4a956ee946003b",
      "c47a5cf507ac4010839372a088e7b70a",
      "b08b1a46d5424451b2b27142e3c7293d",
      "6cf77df47996427bb3b5d2bc8b7d998b",
      "bfe405793fbb444994a8c55b09ae1b77",
      "bb4137f8c8b142bb8431f6196c96fcdd",
      "6bb4c23de1ce4dbe862451b3914de0e3",
      "c9ea0a63823242e79e9706dc44bbbde8",
      "945bcd29421b4856a33df03330369f95",
      "dba25fcd08064816bd2f6bbb2540b555",
      "1e8c6d7348ff4e5898595f82deda0f41",
      "dca086fc57924b2aa0cac472cb492ca5",
      "a08734c0540a4d00bda86f4462725495",
      "db04ce556f654220aa56903fa8225910",
      "e4d4de1cd41c4db19f88bc3f75cc5418",
      "6532246a81684b15a15f1f2e600ed679",
      "86d8422226454977982675b5d27b6add",
      "8fd287508d1d4febad4b54136ae915b4",
      "4bfdaa7f4a1b4b0fbbdc186d09d0707e",
      "840c340c637b40e891634b88a86426e4",
      "15948c0dd30c49eb8a652e185c6914ea",
      "3829e31d508042f7855b1d87b7c32fbd",
      "6012c02c85a64cf2b6db1fa9bb885dd4",
      "3ee82854ddde4cbb97b72b2a72e167c2",
      "5af2886003e9469c86220a8e462c263c",
      "ace0fca3e3d6432387ba89de2ec33f81",
      "e468aba44bd74099b754d1210693e931",
      "ed9de5372cee4ae3804196656e44a1ac",
      "00f26cd0b2764429b5ab085b36e915e9",
      "2e57f31910da4e46a50e939ff8d67fc4",
      "dbb1254717cb4d9eab56c11c9e935961",
      "7b97eabd96674e2b83e6fb80894ecebb",
      "f637a50eb3804a8db1840c6238da96d5",
      "c6006b3984944d498c1c8018dc70b14b",
      "20d7d9110fed49a6a15c5c9d0604d514",
      "c7bc1bc9147c4dcfa8c5f72bff82ea6a",
      "28f27036ce9b4aee85a2b57904a85a33",
      "3e61ae63e67847e2b2e39aca26f9afa3",
      "a50c60ef1c504d438b26e22d5286e68a",
      "19a4314beebb44a49d02a8fe1414fd93",
      "fac654e0e0de47be8009f3afd120e068",
      "ec12c013a12c444186da259914cf2061",
      "e8bf0043819e4a70be62300f82594cd8",
      "40f559ed902a48c6b596bda83cc90566"
     ]
    },
    "id": "4NbDNe5hoDUU",
    "outputId": "f8c936ae-3a10-4389-a5be-c972d34cb942"
   },
   "execution_count": 5,
   "outputs": [
    {
     "output_type": "stream",
     "name": "stderr",
     "text": [
      "/usr/local/lib/python3.11/dist-packages/huggingface_hub/utils/_auth.py:94: UserWarning: \n",
      "The secret `HF_TOKEN` does not exist in your Colab secrets.\n",
      "To authenticate with the Hugging Face Hub, create a token in your settings tab (https://huggingface.co/settings/tokens), set it as secret in your Google Colab and restart your session.\n",
      "You will be able to reuse this secret in all of your notebooks.\n",
      "Please note that authentication is recommended but still optional to access public models or datasets.\n",
      "  warnings.warn(\n"
     ]
    },
    {
     "output_type": "display_data",
     "data": {
      "text/plain": [
       "modules.json:   0%|          | 0.00/349 [00:00<?, ?B/s]"
      ],
      "application/vnd.jupyter.widget-view+json": {
       "version_major": 2,
       "version_minor": 0,
       "model_id": "b05a014094774244b35f947244cbac8a"
      }
     },
     "metadata": {}
    },
    {
     "output_type": "display_data",
     "data": {
      "text/plain": [
       "config_sentence_transformers.json:   0%|          | 0.00/116 [00:00<?, ?B/s]"
      ],
      "application/vnd.jupyter.widget-view+json": {
       "version_major": 2,
       "version_minor": 0,
       "model_id": "dbb45b687c1e47ccbb4d4c344febbc06"
      }
     },
     "metadata": {}
    },
    {
     "output_type": "display_data",
     "data": {
      "text/plain": [
       "README.md:   0%|          | 0.00/10.5k [00:00<?, ?B/s]"
      ],
      "application/vnd.jupyter.widget-view+json": {
       "version_major": 2,
       "version_minor": 0,
       "model_id": "a8845a462c584ad3a6f76c99762f8982"
      }
     },
     "metadata": {}
    },
    {
     "output_type": "display_data",
     "data": {
      "text/plain": [
       "sentence_bert_config.json:   0%|          | 0.00/53.0 [00:00<?, ?B/s]"
      ],
      "application/vnd.jupyter.widget-view+json": {
       "version_major": 2,
       "version_minor": 0,
       "model_id": "91552793f23b479b87292767f11119ab"
      }
     },
     "metadata": {}
    },
    {
     "output_type": "display_data",
     "data": {
      "text/plain": [
       "config.json:   0%|          | 0.00/612 [00:00<?, ?B/s]"
      ],
      "application/vnd.jupyter.widget-view+json": {
       "version_major": 2,
       "version_minor": 0,
       "model_id": "fe07daed22de42dba0a5347e3be98998"
      }
     },
     "metadata": {}
    },
    {
     "output_type": "stream",
     "name": "stderr",
     "text": [
      "Xet Storage is enabled for this repo, but the 'hf_xet' package is not installed. Falling back to regular HTTP download. For better performance, install the package with: `pip install huggingface_hub[hf_xet]` or `pip install hf_xet`\n",
      "WARNING:huggingface_hub.file_download:Xet Storage is enabled for this repo, but the 'hf_xet' package is not installed. Falling back to regular HTTP download. For better performance, install the package with: `pip install huggingface_hub[hf_xet]` or `pip install hf_xet`\n"
     ]
    },
    {
     "output_type": "display_data",
     "data": {
      "text/plain": [
       "model.safetensors:   0%|          | 0.00/90.9M [00:00<?, ?B/s]"
      ],
      "application/vnd.jupyter.widget-view+json": {
       "version_major": 2,
       "version_minor": 0,
       "model_id": "755c9c5bd7f440c8ab28fb2ac27d89b4"
      }
     },
     "metadata": {}
    },
    {
     "output_type": "display_data",
     "data": {
      "text/plain": [
       "tokenizer_config.json:   0%|          | 0.00/350 [00:00<?, ?B/s]"
      ],
      "application/vnd.jupyter.widget-view+json": {
       "version_major": 2,
       "version_minor": 0,
       "model_id": "21496e1acc284685b412748a43eaa0ee"
      }
     },
     "metadata": {}
    },
    {
     "output_type": "display_data",
     "data": {
      "text/plain": [
       "vocab.txt:   0%|          | 0.00/232k [00:00<?, ?B/s]"
      ],
      "application/vnd.jupyter.widget-view+json": {
       "version_major": 2,
       "version_minor": 0,
       "model_id": "e54cad32707342a39e4a956ee946003b"
      }
     },
     "metadata": {}
    },
    {
     "output_type": "display_data",
     "data": {
      "text/plain": [
       "tokenizer.json:   0%|          | 0.00/466k [00:00<?, ?B/s]"
      ],
      "application/vnd.jupyter.widget-view+json": {
       "version_major": 2,
       "version_minor": 0,
       "model_id": "dca086fc57924b2aa0cac472cb492ca5"
      }
     },
     "metadata": {}
    },
    {
     "output_type": "display_data",
     "data": {
      "text/plain": [
       "special_tokens_map.json:   0%|          | 0.00/112 [00:00<?, ?B/s]"
      ],
      "application/vnd.jupyter.widget-view+json": {
       "version_major": 2,
       "version_minor": 0,
       "model_id": "6012c02c85a64cf2b6db1fa9bb885dd4"
      }
     },
     "metadata": {}
    },
    {
     "output_type": "display_data",
     "data": {
      "text/plain": [
       "config.json:   0%|          | 0.00/190 [00:00<?, ?B/s]"
      ],
      "application/vnd.jupyter.widget-view+json": {
       "version_major": 2,
       "version_minor": 0,
       "model_id": "c6006b3984944d498c1c8018dc70b14b"
      }
     },
     "metadata": {}
    }
   ]
  },
  {
   "cell_type": "code",
   "source": [
    "chunk_embeddings = embedder.encode(chunks, convert_to_numpy=True)\n",
    "print(f\"Generated embeddings of shape: {chunk_embeddings.shape}\")"
   ],
   "metadata": {
    "colab": {
     "base_uri": "https://localhost:8080/"
    },
    "id": "z1__lwh2oJEB",
    "outputId": "6b22130d-fb28-41fe-b34b-2d9ee0f531f1"
   },
   "execution_count": 6,
   "outputs": [
    {
     "output_type": "stream",
     "name": "stdout",
     "text": [
      "Generated embeddings of shape: (36, 384)\n"
     ]
    }
   ]
  },
  {
   "cell_type": "code",
   "source": [
    "d = chunk_embeddings.shape[1]\n",
    "index = faiss.IndexFlatL2(d)\n",
    "index.add(np.array(chunk_embeddings))\n",
    "print(f\"FAISS index built with {index.ntotal} vectors of dimension {d}.\")"
   ],
   "metadata": {
    "colab": {
     "base_uri": "https://localhost:8080/"
    },
    "id": "mVKKdvYpoMu1",
    "outputId": "738cc82d-0375-41c7-aaf4-4fab530ab12a"
   },
   "execution_count": 7,
   "outputs": [
    {
     "output_type": "stream",
     "name": "stdout",
     "text": [
      "FAISS index built with 36 vectors of dimension 384.\n"
     ]
    }
   ]
  },
  {
   "cell_type": "code",
   "source": [
    "tokenizer = GPT2Tokenizer.from_pretrained('EleutherAI/gpt-neo-125M')\n",
    "model = GPTNeoForCausalLM.from_pretrained('EleutherAI/gpt-neo-125M')"
   ],
   "metadata": {
    "colab": {
     "base_uri": "https://localhost:8080/",
     "height": 273,
     "referenced_widgets": [
      "3c06882aeceb41e6a2a52e7c0387fb4c",
      "5f5945a1eda34a219c09e0be6a3b5b12",
      "84d0ecaf30bb4ca58015d119217d84a8",
      "ef6d7a024e134717bf4f9d0096a14a4c",
      "a4418808b2c74affbf6a712f3900b48c",
      "da3b705664f54ad19c2dd1e72ee652bc",
      "1ed0e2c114ef409fb5adca2511799b56",
      "666f80fc63fc490caf36c6d709b5ff4e",
      "40dcda72ca0441caaeafbec8fa4910f8",
      "010fc016245e493a8919bb3c63aba4af",
      "0edea5f6090e4f889e65cb8673b793be",
      "dc845757994940e8a78d246b73ebee1a",
      "6bf8b35eaadd47e9bbb4a2d80e3f1137",
      "49fd2f3cfa9948e882724e9f64300d5a",
      "f4ffbdec0cca406abdd8485d5e1e3e09",
      "317a5a51a64f49b2865cb52186093437",
      "75962de94e374abf908902fc07fdf592",
      "99b32fb27ea743ed9911946bd715f1c5",
      "262106aac691421e9361f27654f470b6",
      "9d5789ce2a1d4c67897bc5b5f64f1290",
      "7445803959814ee3b8f83cc3636a20a5",
      "4ef72e3e6ea640dfb27efbe0da56a9bf",
      "64613cdfbf5e40ca9c3798aaf6e546bc",
      "f1d1fdd78d9a4be8a13dd356528ff5eb",
      "823d880d02474ff6bee2b6f06ab70248",
      "08106a0e4d654882a6269eefc9651fa4",
      "3a4579c0df0b4d96a4c281d2c6e84836",
      "d706490b011c4b03aaf3d5c825153f9a",
      "1a71c73344324d99afc68283eebd9fff",
      "a9369a652aea470fae66f4e099cda9b7",
      "c01b4f1fac5843e9b6e6e6c7b7761d54",
      "da7a9077bceb4962941e1457a2026b57",
      "19e21a484e0d43aeb5306b1f388ecaaa",
      "e64a31beadee424792d4b4df5df1b88d",
      "bd77fb403906493880fe494c4f77df2e",
      "9cc3e403e5154903895c7113c3676835",
      "4ca117adb0274ddeb81748b90a464742",
      "98a2e1028adb4b72857dc4b804ce695c",
      "8a2e33ae2e3b461895cc89712770473d",
      "e9e2c623b4a643fcadaa3420de9e6315",
      "1dbd38157c21444fa4dac6dc2db2f47b",
      "544a26d264ee4f6285b2e7c961c296c8",
      "8f97649a3b4c4cceadcc4a9e510d2fce",
      "565677ce28c64c618cf4f4fe4087bb09",
      "2e2391d35a5d4451984951d77f8addeb",
      "927ed969ad5842858d3f8c2ea0467dd4",
      "f686bb36b9364795bfda50ae6f2152d4",
      "f56d308cb2484e4495fe7df4ff3bfbdf",
      "68aa7be330e6409a97efa51b0d13f53b",
      "e3f72046683e4e3d916ef226021782b3",
      "13c3af1fad354075afa7cef4c9c27bf9",
      "c7a64efd43bc49439326799df7979dee",
      "9ab4eafaab6949b4b92640fe54858609",
      "4f3520210be140edb37ea4e981805f15",
      "5d7b96a39f214b06bda3ffa6c19ca230",
      "0d0c0ca826d64c23b2e51f62541067f9",
      "557ce2d49db94078bb5ef585572c8a61",
      "64da52cbd76247b9a1328780b186793a",
      "4abde8f9c2484047bcddd2067b357a48",
      "c2237b99aca4469e9894191e733eb311",
      "b53fe43de4f148fba415de69472fd1de",
      "cfd27396bff74e4f944312a186e71c38",
      "f51b6b7b46854244861058f7e8907d84",
      "7cdee85b371f42e8876dd10d51b5bc58",
      "73f3be29ab904707aa440b5fc4198fa0",
      "faa4a5f92f7d49ba8f5bee5d3950a737",
      "00b02fd924c740a1b63faea3e618d790",
      "e6cc8c3d76d14bd7a64c7fdb2b19eca6",
      "42627923bdca46eab21d1f0acb853249",
      "74d856cb4e144e36bf4bb13fd82abb71",
      "ad4bc91dde8b4968aaa62b4c13712c1a",
      "2b0d74d9adfc4b5d9cacee5404cb626a",
      "1c9e739b94cc4c3681579ed8aaab0717",
      "db6fbddc8bef4d388f42b39cdd355fb4",
      "ef505dc1c4884790b3c288d0f31181f7",
      "6e770cdcadde4f31a542a73265dd6050",
      "684c19b9f3394f7daf35d53b255d4564",
      "356ddf4987404a07a748e8b88ec1bf48",
      "cc12e532cd044545af108137cb098a1f",
      "3ba7812742d14a7f94a865220053e640",
      "93db1ca60c4648409841b04b0aacde16",
      "9cfcde866ab047a8ad25b7c5f7c72e3e",
      "11357326a30d4508919f2c3e7b603b4a",
      "4632b67a250e4addb1924445d3b48a0c",
      "50a61aad92b740d59c85b6676767c712",
      "ecff9873c1c34a9b8de1f54dbf4ca615",
      "c5a43c29735d4f57b4fd9e57b2710d80",
      "0103be58ba504a51b32ab4a3314bd0a4"
     ]
    },
    "id": "n2_eZnQ3oaSl",
    "outputId": "2ee6672f-19c5-4b4c-ae65-4c8cffd804ea"
   },
   "execution_count": 8,
   "outputs": [
    {
     "output_type": "display_data",
     "data": {
      "text/plain": [
       "tokenizer_config.json:   0%|          | 0.00/727 [00:00<?, ?B/s]"
      ],
      "application/vnd.jupyter.widget-view+json": {
       "version_major": 2,
       "version_minor": 0,
       "model_id": "3c06882aeceb41e6a2a52e7c0387fb4c"
      }
     },
     "metadata": {}
    },
    {
     "output_type": "display_data",
     "data": {
      "text/plain": [
       "vocab.json:   0%|          | 0.00/899k [00:00<?, ?B/s]"
      ],
      "application/vnd.jupyter.widget-view+json": {
       "version_major": 2,
       "version_minor": 0,
       "model_id": "dc845757994940e8a78d246b73ebee1a"
      }
     },
     "metadata": {}
    },
    {
     "output_type": "display_data",
     "data": {
      "text/plain": [
       "merges.txt:   0%|          | 0.00/456k [00:00<?, ?B/s]"
      ],
      "application/vnd.jupyter.widget-view+json": {
       "version_major": 2,
       "version_minor": 0,
       "model_id": "64613cdfbf5e40ca9c3798aaf6e546bc"
      }
     },
     "metadata": {}
    },
    {
     "output_type": "display_data",
     "data": {
      "text/plain": [
       "special_tokens_map.json:   0%|          | 0.00/357 [00:00<?, ?B/s]"
      ],
      "application/vnd.jupyter.widget-view+json": {
       "version_major": 2,
       "version_minor": 0,
       "model_id": "e64a31beadee424792d4b4df5df1b88d"
      }
     },
     "metadata": {}
    },
    {
     "output_type": "display_data",
     "data": {
      "text/plain": [
       "tokenizer.json:   0%|          | 0.00/2.11M [00:00<?, ?B/s]"
      ],
      "application/vnd.jupyter.widget-view+json": {
       "version_major": 2,
       "version_minor": 0,
       "model_id": "2e2391d35a5d4451984951d77f8addeb"
      }
     },
     "metadata": {}
    },
    {
     "output_type": "display_data",
     "data": {
      "text/plain": [
       "config.json:   0%|          | 0.00/1.01k [00:00<?, ?B/s]"
      ],
      "application/vnd.jupyter.widget-view+json": {
       "version_major": 2,
       "version_minor": 0,
       "model_id": "0d0c0ca826d64c23b2e51f62541067f9"
      }
     },
     "metadata": {}
    },
    {
     "output_type": "display_data",
     "data": {
      "text/plain": [
       "model.safetensors:   0%|          | 0.00/526M [00:00<?, ?B/s]"
      ],
      "application/vnd.jupyter.widget-view+json": {
       "version_major": 2,
       "version_minor": 0,
       "model_id": "00b02fd924c740a1b63faea3e618d790"
      }
     },
     "metadata": {}
    },
    {
     "output_type": "display_data",
     "data": {
      "text/plain": [
       "generation_config.json:   0%|          | 0.00/119 [00:00<?, ?B/s]"
      ],
      "application/vnd.jupyter.widget-view+json": {
       "version_major": 2,
       "version_minor": 0,
       "model_id": "356ddf4987404a07a748e8b88ec1bf48"
      }
     },
     "metadata": {}
    }
   ]
  },
  {
   "cell_type": "code",
   "source": [
    "def answer_question(question, k=3):\n",
    "    # 1. Embed the question\n",
    "    q_emb = embedder.encode([question], convert_to_numpy=True)\n",
    "\n",
    "    # 2. Search FAISS for k nearest chunks\n",
    "    D, I = index.search(np.array(q_emb), k)\n",
    "\n",
    "    # 3. Retrieve the top-k relevant chunks\n",
    "    retrieved_chunks = [chunks[i] for i in I[0]]\n",
    "    context = \" \".join(retrieved_chunks)\n",
    "\n",
    "    # 4. Build prompt for GPT-Neo\n",
    "    prompt = f\"Context: {context}\\nQuestion: {question}\\nAnswer:\"\n",
    "    inputs = tokenizer(prompt, return_tensors='pt').input_ids\n",
    "\n",
    "    # 5. Generate answer (sampling to allow variety)\n",
    "    outputs = model.generate(\n",
    "        inputs,\n",
    "        max_new_tokens=200,\n",
    "        do_sample=True, top_p=0.95, top_k=50\n",
    "    )\n",
    "\n",
    "    # 6. Decode and return only the answer\n",
    "    answer = tokenizer.decode(outputs[0], skip_special_tokens=True).split('Answer:')[-1].strip()\n",
    "    return answer"
   ],
   "metadata": {
    "id": "BqxIyp_YoeJA"
   },
   "execution_count": 18,
   "outputs": []
  },
  {
   "cell_type": "code",
   "source": [
    "user_question = \"Tell about Personal Allowance?\"\n",
    "print(\"Answer:\", answer_question(user_question))"
   ],
   "metadata": {
    "colab": {
     "base_uri": "https://localhost:8080/"
    },
    "id": "8EcLsTztoxoW",
    "outputId": "32f82a8f-27b4-45b3-a241-cf081a11d786"
   },
   "execution_count": 21,
   "outputs": [
    {
     "output_type": "stream",
     "name": "stderr",
     "text": [
      "The attention mask and the pad token id were not set. As a consequence, you may observe unexpected behavior. Please pass your input's `attention_mask` to obtain reliable results.\n",
      "Setting `pad_token_id` to `eos_token_id`:50256 for open-end generation.\n"
     ]
    },
    {
     "output_type": "stream",
     "name": "stdout",
     "text": [
      "Answer: 1)TCSL has the capacity to manage personal care at all TCSl facilities and TCSl\n",
      "facilities are responsible for this type of health insurance\n",
      "2) TCSL does not have the right to offer personal medical benefits to any person under\n",
      "the scheme and it is only to cover the personal medical benefits. \n",
      "3) TCSL will not have any personal insurance to cover for you if you are a \n",
      "personally insured. \n",
      "4) TCSL will not have any direct medical coverage for you if you are a personally \n",
      "insured. \n",
      "5) TCSL is not accountable for the quality of health insurance you have. However \n",
      "in the event you are a personally insured, TCSL will not have to compensate you in the \n",
      "event you are not physically a person as per your health plan. \n",
      "6) TCSL has a professional medical practice to provide you with proper care for a\n"
     ]
    }
   ]
  },
  {
   "cell_type": "code",
   "source": [
    "import json\n",
    "\n",
    "notebook_path = \"/content/RAG_with_Zephyr.ipynb\"\n",
    "\n",
    "# Load the notebook file\n",
    "with open(notebook_path, \"r\", encoding=\"utf-8\") as f:\n",
    "    data = json.load(f)\n",
    "\n",
    "# Remove the widget metadata if present\n",
    "if \"widgets\" in data.get(\"metadata\", {}):\n",
    "    print(\"Cleaning widget metadata...\")\n",
    "    del data[\"metadata\"][\"widgets\"]\n",
    "\n",
    "    # Save the cleaned notebook\n",
    "    with open(notebook_path, \"w\", encoding=\"utf-8\") as f:\n",
    "        json.dump(data, f, indent=1)\n",
    "\n",
    "    print(\"\u2705 Notebook cleaned! You can now re-open it.\")\n",
    "else:\n",
    "    print(\"No widget metadata found.\")"
   ],
   "metadata": {
    "colab": {
     "base_uri": "https://localhost:8080/",
     "height": 219
    },
    "id": "ICsWxDESqZMD",
    "outputId": "47ddb1ed-fb4d-4bb5-e636-81be6889c58d"
   },
   "execution_count": 22,
   "outputs": [
    {
     "output_type": "error",
     "ename": "FileNotFoundError",
     "evalue": "[Errno 2] No such file or directory: '/content/RAG_with_Zephyr.ipynb'",
     "traceback": [
      "\u001b[0;31m---------------------------------------------------------------------------\u001b[0m",
      "\u001b[0;31mFileNotFoundError\u001b[0m                         Traceback (most recent call last)",
      "\u001b[0;32m<ipython-input-22-8c3a0987643c>\u001b[0m in \u001b[0;36m<cell line: 0>\u001b[0;34m()\u001b[0m\n\u001b[1;32m      4\u001b[0m \u001b[0;34m\u001b[0m\u001b[0m\n\u001b[1;32m      5\u001b[0m \u001b[0;31m# Load the notebook file\u001b[0m\u001b[0;34m\u001b[0m\u001b[0;34m\u001b[0m\u001b[0m\n\u001b[0;32m----> 6\u001b[0;31m \u001b[0;32mwith\u001b[0m \u001b[0mopen\u001b[0m\u001b[0;34m(\u001b[0m\u001b[0mnotebook_path\u001b[0m\u001b[0;34m,\u001b[0m \u001b[0;34m\"r\"\u001b[0m\u001b[0;34m,\u001b[0m \u001b[0mencoding\u001b[0m\u001b[0;34m=\u001b[0m\u001b[0;34m\"utf-8\"\u001b[0m\u001b[0;34m)\u001b[0m \u001b[0;32mas\u001b[0m \u001b[0mf\u001b[0m\u001b[0;34m:\u001b[0m\u001b[0;34m\u001b[0m\u001b[0;34m\u001b[0m\u001b[0m\n\u001b[0m\u001b[1;32m      7\u001b[0m     \u001b[0mdata\u001b[0m \u001b[0;34m=\u001b[0m \u001b[0mjson\u001b[0m\u001b[0;34m.\u001b[0m\u001b[0mload\u001b[0m\u001b[0;34m(\u001b[0m\u001b[0mf\u001b[0m\u001b[0;34m)\u001b[0m\u001b[0;34m\u001b[0m\u001b[0;34m\u001b[0m\u001b[0m\n\u001b[1;32m      8\u001b[0m \u001b[0;34m\u001b[0m\u001b[0m\n",
      "\u001b[0;31mFileNotFoundError\u001b[0m: [Errno 2] No such file or directory: '/content/RAG_with_Zephyr.ipynb'"
     ]
    }
   ]
  },
  {
   "cell_type": "code",
   "source": [],
   "metadata": {
    "id": "73Eont6Ow5sK"
   },
   "execution_count": null,
   "outputs": []
  }
 ]
}